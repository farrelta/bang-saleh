{
 "cells": [
  {
   "cell_type": "code",
   "execution_count": 1,
   "id": "d451f8fd",
   "metadata": {
    "_cell_guid": "b1076dfc-b9ad-4769-8c92-a6c4dae69d19",
    "_uuid": "8f2839f25d086af736a60e9eeb907d3b93b6e0e5",
    "execution": {
     "iopub.execute_input": "2024-11-16T00:37:17.461098Z",
     "iopub.status.busy": "2024-11-16T00:37:17.460637Z",
     "iopub.status.idle": "2024-11-16T00:37:18.551279Z",
     "shell.execute_reply": "2024-11-16T00:37:18.549802Z"
    },
    "papermill": {
     "duration": 1.102987,
     "end_time": "2024-11-16T00:37:18.554059",
     "exception": false,
     "start_time": "2024-11-16T00:37:17.451072",
     "status": "completed"
    },
    "tags": []
   },
   "outputs": [
    {
     "name": "stdout",
     "output_type": "stream",
     "text": [
      "/kaggle/input/penugasan-oprec-dsai-2024/sample_submission.csv\n",
      "/kaggle/input/penugasan-oprec-dsai-2024/Train.csv\n",
      "/kaggle/input/penugasan-oprec-dsai-2024/Test.csv\n"
     ]
    }
   ],
   "source": [
    "# This Python 3 environment comes with many helpful analytics libraries installed\n",
    "# It is defined by the kaggle/python Docker image: https://github.com/kaggle/docker-python\n",
    "# For example, here's several helpful packages to load\n",
    "\n",
    "import numpy as np # linear algebra\n",
    "import pandas as pd # data processing, CSV file I/O (e.g. pd.read_csv)\n",
    "\n",
    "# Input data files are available in the read-only \"../input/\" directory\n",
    "# For example, running this (by clicking run or pressing Shift+Enter) will list all files under the input directory\n",
    "\n",
    "import os\n",
    "for dirname, _, filenames in os.walk('/kaggle/input'):\n",
    "    for filename in filenames:\n",
    "        print(os.path.join(dirname, filename))\n",
    "\n",
    "# You can write up to 20GB to the current directory (/kaggle/working/) that gets preserved as output when you create a version using \"Save & Run All\" \n",
    "# You can also write temporary files to /kaggle/temp/, but they won't be saved outside of the current session"
   ]
  },
  {
   "cell_type": "code",
   "execution_count": 2,
   "id": "9df03c8c",
   "metadata": {
    "execution": {
     "iopub.execute_input": "2024-11-16T00:37:18.571719Z",
     "iopub.status.busy": "2024-11-16T00:37:18.571119Z",
     "iopub.status.idle": "2024-11-16T00:37:20.609570Z",
     "shell.execute_reply": "2024-11-16T00:37:20.607970Z"
    },
    "papermill": {
     "duration": 2.050477,
     "end_time": "2024-11-16T00:37:20.612282",
     "exception": false,
     "start_time": "2024-11-16T00:37:18.561805",
     "status": "completed"
    },
    "tags": []
   },
   "outputs": [],
   "source": [
    "import seaborn as sns\n",
    "import matplotlib.pyplot as plt"
   ]
  },
  {
   "cell_type": "code",
   "execution_count": 3,
   "id": "b8eaab17",
   "metadata": {
    "execution": {
     "iopub.execute_input": "2024-11-16T00:37:20.629049Z",
     "iopub.status.busy": "2024-11-16T00:37:20.628463Z",
     "iopub.status.idle": "2024-11-16T00:37:20.774017Z",
     "shell.execute_reply": "2024-11-16T00:37:20.772972Z"
    },
    "papermill": {
     "duration": 0.157015,
     "end_time": "2024-11-16T00:37:20.776685",
     "exception": false,
     "start_time": "2024-11-16T00:37:20.619670",
     "status": "completed"
    },
    "tags": []
   },
   "outputs": [],
   "source": [
    "df_train = pd.read_csv('/kaggle/input/penugasan-oprec-dsai-2024/Train.csv')\n",
    "df_test = pd.read_csv('/kaggle/input/penugasan-oprec-dsai-2024/Test.csv')"
   ]
  },
  {
   "cell_type": "markdown",
   "id": "15cec9ad",
   "metadata": {
    "papermill": {
     "duration": 0.006988,
     "end_time": "2024-11-16T00:37:20.791418",
     "exception": false,
     "start_time": "2024-11-16T00:37:20.784430",
     "status": "completed"
    },
    "tags": []
   },
   "source": [
    "EDA"
   ]
  },
  {
   "cell_type": "code",
   "execution_count": 4,
   "id": "58a1f1e2",
   "metadata": {
    "execution": {
     "iopub.execute_input": "2024-11-16T00:37:20.807763Z",
     "iopub.status.busy": "2024-11-16T00:37:20.807284Z",
     "iopub.status.idle": "2024-11-16T00:37:20.848136Z",
     "shell.execute_reply": "2024-11-16T00:37:20.846885Z"
    },
    "papermill": {
     "duration": 0.052338,
     "end_time": "2024-11-16T00:37:20.850998",
     "exception": false,
     "start_time": "2024-11-16T00:37:20.798660",
     "status": "completed"
    },
    "tags": []
   },
   "outputs": [
    {
     "data": {
      "text/html": [
       "<div>\n",
       "<style scoped>\n",
       "    .dataframe tbody tr th:only-of-type {\n",
       "        vertical-align: middle;\n",
       "    }\n",
       "\n",
       "    .dataframe tbody tr th {\n",
       "        vertical-align: top;\n",
       "    }\n",
       "\n",
       "    .dataframe thead th {\n",
       "        text-align: right;\n",
       "    }\n",
       "</style>\n",
       "<table border=\"1\" class=\"dataframe\">\n",
       "  <thead>\n",
       "    <tr style=\"text-align: right;\">\n",
       "      <th></th>\n",
       "      <th>id</th>\n",
       "      <th>work_year</th>\n",
       "      <th>experience_level</th>\n",
       "      <th>employment_type</th>\n",
       "      <th>job_title</th>\n",
       "      <th>salary_currency</th>\n",
       "      <th>employee_residence</th>\n",
       "      <th>remote_ratio</th>\n",
       "      <th>company_location</th>\n",
       "      <th>company_size</th>\n",
       "      <th>salary</th>\n",
       "    </tr>\n",
       "  </thead>\n",
       "  <tbody>\n",
       "    <tr>\n",
       "      <th>0</th>\n",
       "      <td>0</td>\n",
       "      <td>2024.0</td>\n",
       "      <td>NaN</td>\n",
       "      <td>FT</td>\n",
       "      <td>Data Engineer</td>\n",
       "      <td>USD</td>\n",
       "      <td>US</td>\n",
       "      <td>0.0</td>\n",
       "      <td>US</td>\n",
       "      <td>M</td>\n",
       "      <td>138000</td>\n",
       "    </tr>\n",
       "    <tr>\n",
       "      <th>1</th>\n",
       "      <td>1</td>\n",
       "      <td>2024.0</td>\n",
       "      <td>SE</td>\n",
       "      <td>FT</td>\n",
       "      <td>Software Engineer</td>\n",
       "      <td>USD</td>\n",
       "      <td>US</td>\n",
       "      <td>2.0</td>\n",
       "      <td>NaN</td>\n",
       "      <td>M</td>\n",
       "      <td>180000</td>\n",
       "    </tr>\n",
       "    <tr>\n",
       "      <th>2</th>\n",
       "      <td>2</td>\n",
       "      <td>2024.0</td>\n",
       "      <td>NaN</td>\n",
       "      <td>FT</td>\n",
       "      <td>Machine Learning Engineer</td>\n",
       "      <td>USD</td>\n",
       "      <td>US</td>\n",
       "      <td>0.0</td>\n",
       "      <td>US</td>\n",
       "      <td>M</td>\n",
       "      <td>118500</td>\n",
       "    </tr>\n",
       "    <tr>\n",
       "      <th>3</th>\n",
       "      <td>3</td>\n",
       "      <td>2024.0</td>\n",
       "      <td>NaN</td>\n",
       "      <td>NaN</td>\n",
       "      <td>Data Engineer</td>\n",
       "      <td>USD</td>\n",
       "      <td>US</td>\n",
       "      <td>0.0</td>\n",
       "      <td>US</td>\n",
       "      <td>M</td>\n",
       "      <td>180000</td>\n",
       "    </tr>\n",
       "    <tr>\n",
       "      <th>4</th>\n",
       "      <td>4</td>\n",
       "      <td>2024.0</td>\n",
       "      <td>SE</td>\n",
       "      <td>FT</td>\n",
       "      <td>Product Manager</td>\n",
       "      <td>USD</td>\n",
       "      <td>US</td>\n",
       "      <td>0.0</td>\n",
       "      <td>US</td>\n",
       "      <td>NaN</td>\n",
       "      <td>204000</td>\n",
       "    </tr>\n",
       "    <tr>\n",
       "      <th>...</th>\n",
       "      <td>...</td>\n",
       "      <td>...</td>\n",
       "      <td>...</td>\n",
       "      <td>...</td>\n",
       "      <td>...</td>\n",
       "      <td>...</td>\n",
       "      <td>...</td>\n",
       "      <td>...</td>\n",
       "      <td>...</td>\n",
       "      <td>...</td>\n",
       "      <td>...</td>\n",
       "    </tr>\n",
       "    <tr>\n",
       "      <th>35073</th>\n",
       "      <td>49995</td>\n",
       "      <td>2024.0</td>\n",
       "      <td>SE</td>\n",
       "      <td>NaN</td>\n",
       "      <td>Data Analyst</td>\n",
       "      <td>USD</td>\n",
       "      <td>AU</td>\n",
       "      <td>NaN</td>\n",
       "      <td>NaN</td>\n",
       "      <td>M</td>\n",
       "      <td>88333</td>\n",
       "    </tr>\n",
       "    <tr>\n",
       "      <th>35074</th>\n",
       "      <td>49996</td>\n",
       "      <td>NaN</td>\n",
       "      <td>MI</td>\n",
       "      <td>NaN</td>\n",
       "      <td>Business Intelligence</td>\n",
       "      <td>USD</td>\n",
       "      <td>US</td>\n",
       "      <td>NaN</td>\n",
       "      <td>US</td>\n",
       "      <td>M</td>\n",
       "      <td>252291</td>\n",
       "    </tr>\n",
       "    <tr>\n",
       "      <th>35075</th>\n",
       "      <td>49997</td>\n",
       "      <td>2024.0</td>\n",
       "      <td>NaN</td>\n",
       "      <td>FT</td>\n",
       "      <td>Product Manager</td>\n",
       "      <td>USD</td>\n",
       "      <td>US</td>\n",
       "      <td>0.0</td>\n",
       "      <td>US</td>\n",
       "      <td>NaN</td>\n",
       "      <td>196010</td>\n",
       "    </tr>\n",
       "    <tr>\n",
       "      <th>35076</th>\n",
       "      <td>49998</td>\n",
       "      <td>NaN</td>\n",
       "      <td>MI</td>\n",
       "      <td>FT</td>\n",
       "      <td>Data Architect</td>\n",
       "      <td>USD</td>\n",
       "      <td>PT</td>\n",
       "      <td>0.0</td>\n",
       "      <td>PT</td>\n",
       "      <td>M</td>\n",
       "      <td>50316</td>\n",
       "    </tr>\n",
       "    <tr>\n",
       "      <th>35077</th>\n",
       "      <td>49999</td>\n",
       "      <td>2024.0</td>\n",
       "      <td>MI</td>\n",
       "      <td>FT</td>\n",
       "      <td>Data Analyst</td>\n",
       "      <td>USD</td>\n",
       "      <td>US</td>\n",
       "      <td>0.0</td>\n",
       "      <td>NaN</td>\n",
       "      <td>M</td>\n",
       "      <td>83124</td>\n",
       "    </tr>\n",
       "  </tbody>\n",
       "</table>\n",
       "<p>35078 rows × 11 columns</p>\n",
       "</div>"
      ],
      "text/plain": [
       "          id  work_year experience_level employment_type  \\\n",
       "0          0     2024.0              NaN              FT   \n",
       "1          1     2024.0               SE              FT   \n",
       "2          2     2024.0              NaN              FT   \n",
       "3          3     2024.0              NaN             NaN   \n",
       "4          4     2024.0               SE              FT   \n",
       "...      ...        ...              ...             ...   \n",
       "35073  49995     2024.0               SE             NaN   \n",
       "35074  49996        NaN               MI             NaN   \n",
       "35075  49997     2024.0              NaN              FT   \n",
       "35076  49998        NaN               MI              FT   \n",
       "35077  49999     2024.0               MI              FT   \n",
       "\n",
       "                       job_title salary_currency employee_residence  \\\n",
       "0                  Data Engineer             USD                 US   \n",
       "1              Software Engineer             USD                 US   \n",
       "2      Machine Learning Engineer             USD                 US   \n",
       "3                  Data Engineer             USD                 US   \n",
       "4                Product Manager             USD                 US   \n",
       "...                          ...             ...                ...   \n",
       "35073               Data Analyst             USD                 AU   \n",
       "35074      Business Intelligence             USD                 US   \n",
       "35075            Product Manager             USD                 US   \n",
       "35076             Data Architect             USD                 PT   \n",
       "35077               Data Analyst             USD                 US   \n",
       "\n",
       "       remote_ratio company_location company_size  salary  \n",
       "0               0.0               US            M  138000  \n",
       "1               2.0              NaN            M  180000  \n",
       "2               0.0               US            M  118500  \n",
       "3               0.0               US            M  180000  \n",
       "4               0.0               US          NaN  204000  \n",
       "...             ...              ...          ...     ...  \n",
       "35073           NaN              NaN            M   88333  \n",
       "35074           NaN               US            M  252291  \n",
       "35075           0.0               US          NaN  196010  \n",
       "35076           0.0               PT            M   50316  \n",
       "35077           0.0              NaN            M   83124  \n",
       "\n",
       "[35078 rows x 11 columns]"
      ]
     },
     "execution_count": 4,
     "metadata": {},
     "output_type": "execute_result"
    }
   ],
   "source": [
    "df_train"
   ]
  },
  {
   "cell_type": "code",
   "execution_count": 5,
   "id": "56d238ac",
   "metadata": {
    "execution": {
     "iopub.execute_input": "2024-11-16T00:37:20.869360Z",
     "iopub.status.busy": "2024-11-16T00:37:20.868915Z",
     "iopub.status.idle": "2024-11-16T00:37:20.905075Z",
     "shell.execute_reply": "2024-11-16T00:37:20.903903Z"
    },
    "papermill": {
     "duration": 0.048857,
     "end_time": "2024-11-16T00:37:20.907718",
     "exception": false,
     "start_time": "2024-11-16T00:37:20.858861",
     "status": "completed"
    },
    "tags": []
   },
   "outputs": [
    {
     "data": {
      "text/plain": [
       "id                    35078\n",
       "work_year                 5\n",
       "experience_level          4\n",
       "employment_type           4\n",
       "job_title               209\n",
       "salary_currency          10\n",
       "employee_residence       59\n",
       "remote_ratio              3\n",
       "company_location         61\n",
       "company_size              3\n",
       "salary                14960\n",
       "dtype: int64"
      ]
     },
     "execution_count": 5,
     "metadata": {},
     "output_type": "execute_result"
    }
   ],
   "source": [
    "df_train.nunique()"
   ]
  },
  {
   "cell_type": "code",
   "execution_count": 6,
   "id": "5f18e3ad",
   "metadata": {
    "execution": {
     "iopub.execute_input": "2024-11-16T00:37:20.925705Z",
     "iopub.status.busy": "2024-11-16T00:37:20.925254Z",
     "iopub.status.idle": "2024-11-16T00:37:20.971425Z",
     "shell.execute_reply": "2024-11-16T00:37:20.970270Z"
    },
    "papermill": {
     "duration": 0.058334,
     "end_time": "2024-11-16T00:37:20.974094",
     "exception": false,
     "start_time": "2024-11-16T00:37:20.915760",
     "status": "completed"
    },
    "tags": []
   },
   "outputs": [
    {
     "name": "stdout",
     "output_type": "stream",
     "text": [
      "<class 'pandas.core.frame.DataFrame'>\n",
      "RangeIndex: 35078 entries, 0 to 35077\n",
      "Data columns (total 11 columns):\n",
      " #   Column              Non-Null Count  Dtype  \n",
      "---  ------              --------------  -----  \n",
      " 0   id                  35078 non-null  int64  \n",
      " 1   work_year           28062 non-null  float64\n",
      " 2   experience_level    28062 non-null  object \n",
      " 3   employment_type     28062 non-null  object \n",
      " 4   job_title           35078 non-null  object \n",
      " 5   salary_currency     35078 non-null  object \n",
      " 6   employee_residence  28062 non-null  object \n",
      " 7   remote_ratio        28062 non-null  float64\n",
      " 8   company_location    28062 non-null  object \n",
      " 9   company_size        28062 non-null  object \n",
      " 10  salary              35078 non-null  int64  \n",
      "dtypes: float64(2), int64(2), object(7)\n",
      "memory usage: 2.9+ MB\n"
     ]
    }
   ],
   "source": [
    "df_train.info()"
   ]
  },
  {
   "cell_type": "code",
   "execution_count": 7,
   "id": "fbba3e62",
   "metadata": {
    "execution": {
     "iopub.execute_input": "2024-11-16T00:37:20.992521Z",
     "iopub.status.busy": "2024-11-16T00:37:20.991709Z",
     "iopub.status.idle": "2024-11-16T00:37:21.025658Z",
     "shell.execute_reply": "2024-11-16T00:37:21.024385Z"
    },
    "papermill": {
     "duration": 0.046079,
     "end_time": "2024-11-16T00:37:21.028314",
     "exception": false,
     "start_time": "2024-11-16T00:37:20.982235",
     "status": "completed"
    },
    "tags": []
   },
   "outputs": [
    {
     "data": {
      "text/html": [
       "<div>\n",
       "<style scoped>\n",
       "    .dataframe tbody tr th:only-of-type {\n",
       "        vertical-align: middle;\n",
       "    }\n",
       "\n",
       "    .dataframe tbody tr th {\n",
       "        vertical-align: top;\n",
       "    }\n",
       "\n",
       "    .dataframe thead th {\n",
       "        text-align: right;\n",
       "    }\n",
       "</style>\n",
       "<table border=\"1\" class=\"dataframe\">\n",
       "  <thead>\n",
       "    <tr style=\"text-align: right;\">\n",
       "      <th></th>\n",
       "      <th>id</th>\n",
       "      <th>work_year</th>\n",
       "      <th>remote_ratio</th>\n",
       "      <th>salary</th>\n",
       "    </tr>\n",
       "  </thead>\n",
       "  <tbody>\n",
       "    <tr>\n",
       "      <th>count</th>\n",
       "      <td>35078.000000</td>\n",
       "      <td>28062.000000</td>\n",
       "      <td>28062.000000</td>\n",
       "      <td>35078.000000</td>\n",
       "    </tr>\n",
       "    <tr>\n",
       "      <th>mean</th>\n",
       "      <td>23213.081476</td>\n",
       "      <td>2023.686373</td>\n",
       "      <td>0.482646</td>\n",
       "      <td>150517.661811</td>\n",
       "    </tr>\n",
       "    <tr>\n",
       "      <th>std</th>\n",
       "      <td>14114.394161</td>\n",
       "      <td>0.698085</td>\n",
       "      <td>0.855120</td>\n",
       "      <td>72965.037566</td>\n",
       "    </tr>\n",
       "    <tr>\n",
       "      <th>min</th>\n",
       "      <td>0.000000</td>\n",
       "      <td>2020.000000</td>\n",
       "      <td>0.000000</td>\n",
       "      <td>15000.000000</td>\n",
       "    </tr>\n",
       "    <tr>\n",
       "      <th>25%</th>\n",
       "      <td>11158.750000</td>\n",
       "      <td>2024.000000</td>\n",
       "      <td>0.000000</td>\n",
       "      <td>99070.750000</td>\n",
       "    </tr>\n",
       "    <tr>\n",
       "      <th>50%</th>\n",
       "      <td>22410.500000</td>\n",
       "      <td>2024.000000</td>\n",
       "      <td>0.000000</td>\n",
       "      <td>140000.000000</td>\n",
       "    </tr>\n",
       "    <tr>\n",
       "      <th>75%</th>\n",
       "      <td>34760.750000</td>\n",
       "      <td>2024.000000</td>\n",
       "      <td>0.000000</td>\n",
       "      <td>191920.500000</td>\n",
       "    </tr>\n",
       "    <tr>\n",
       "      <th>max</th>\n",
       "      <td>49999.000000</td>\n",
       "      <td>2024.000000</td>\n",
       "      <td>2.000000</td>\n",
       "      <td>800000.000000</td>\n",
       "    </tr>\n",
       "  </tbody>\n",
       "</table>\n",
       "</div>"
      ],
      "text/plain": [
       "                 id     work_year  remote_ratio         salary\n",
       "count  35078.000000  28062.000000  28062.000000   35078.000000\n",
       "mean   23213.081476   2023.686373      0.482646  150517.661811\n",
       "std    14114.394161      0.698085      0.855120   72965.037566\n",
       "min        0.000000   2020.000000      0.000000   15000.000000\n",
       "25%    11158.750000   2024.000000      0.000000   99070.750000\n",
       "50%    22410.500000   2024.000000      0.000000  140000.000000\n",
       "75%    34760.750000   2024.000000      0.000000  191920.500000\n",
       "max    49999.000000   2024.000000      2.000000  800000.000000"
      ]
     },
     "execution_count": 7,
     "metadata": {},
     "output_type": "execute_result"
    }
   ],
   "source": [
    "df_train.describe()"
   ]
  },
  {
   "cell_type": "code",
   "execution_count": 8,
   "id": "d7d9aa42",
   "metadata": {
    "execution": {
     "iopub.execute_input": "2024-11-16T00:37:21.047063Z",
     "iopub.status.busy": "2024-11-16T00:37:21.046612Z",
     "iopub.status.idle": "2024-11-16T00:37:21.096826Z",
     "shell.execute_reply": "2024-11-16T00:37:21.095591Z"
    },
    "papermill": {
     "duration": 0.062688,
     "end_time": "2024-11-16T00:37:21.099344",
     "exception": false,
     "start_time": "2024-11-16T00:37:21.036656",
     "status": "completed"
    },
    "tags": []
   },
   "outputs": [
    {
     "data": {
      "text/plain": [
       "0"
      ]
     },
     "execution_count": 8,
     "metadata": {},
     "output_type": "execute_result"
    }
   ],
   "source": [
    "df_train.duplicated().sum()"
   ]
  },
  {
   "cell_type": "code",
   "execution_count": 9,
   "id": "207e574a",
   "metadata": {
    "execution": {
     "iopub.execute_input": "2024-11-16T00:37:21.118650Z",
     "iopub.status.busy": "2024-11-16T00:37:21.117729Z",
     "iopub.status.idle": "2024-11-16T00:37:21.153260Z",
     "shell.execute_reply": "2024-11-16T00:37:21.152174Z"
    },
    "papermill": {
     "duration": 0.047949,
     "end_time": "2024-11-16T00:37:21.155733",
     "exception": false,
     "start_time": "2024-11-16T00:37:21.107784",
     "status": "completed"
    },
    "tags": []
   },
   "outputs": [
    {
     "data": {
      "text/plain": [
       "id                     0.00000\n",
       "work_year             20.00114\n",
       "experience_level      20.00114\n",
       "employment_type       20.00114\n",
       "job_title              0.00000\n",
       "salary_currency        0.00000\n",
       "employee_residence    20.00114\n",
       "remote_ratio          20.00114\n",
       "company_location      20.00114\n",
       "company_size          20.00114\n",
       "salary                 0.00000\n",
       "dtype: float64"
      ]
     },
     "execution_count": 9,
     "metadata": {},
     "output_type": "execute_result"
    }
   ],
   "source": [
    "df_train.isnull().sum() / len(df_train) * 100"
   ]
  },
  {
   "cell_type": "code",
   "execution_count": 10,
   "id": "7472c875",
   "metadata": {
    "execution": {
     "iopub.execute_input": "2024-11-16T00:37:21.175319Z",
     "iopub.status.busy": "2024-11-16T00:37:21.174895Z",
     "iopub.status.idle": "2024-11-16T00:37:21.629522Z",
     "shell.execute_reply": "2024-11-16T00:37:21.628191Z"
    },
    "papermill": {
     "duration": 0.467594,
     "end_time": "2024-11-16T00:37:21.632120",
     "exception": false,
     "start_time": "2024-11-16T00:37:21.164526",
     "status": "completed"
    },
    "tags": []
   },
   "outputs": [
    {
     "data": {
      "image/png": "[encoded data removed]",
      "text/plain": [
       "<Figure size 800x1000 with 2 Axes>"
      ]
     },
     "metadata": {},
     "output_type": "display_data"
    }
   ],
   "source": [
    "# Specify the numerical columns (adjust as per your data)\n",
    "numerical_columns = ['work_year', 'remote_ratio']  # example columns\n",
    "\n",
    "# Set up the plot (one plot per column, vertically)\n",
    "plt.figure(figsize=(8, len(numerical_columns) * 5))  # Adjust figure size for vertical arrangement\n",
    "\n",
    "# Create a boxplot for each numerical column\n",
    "for i, col in enumerate(numerical_columns):\n",
    "    plt.subplot(len(numerical_columns), 1, i + 1)  # Arrange vertically (n rows, 1 column)\n",
    "    sns.boxplot(x=df_train[col])\n",
    "    plt.title(f'Boxplot of {col}')\n",
    "    plt.xlabel(col)\n",
    "\n",
    "plt.tight_layout()  # Adjust layout to prevent overlap\n",
    "plt.show()"
   ]
  },
  {
   "cell_type": "markdown",
   "id": "e2fde615",
   "metadata": {
    "papermill": {
     "duration": 0.008954,
     "end_time": "2024-11-16T00:37:21.650435",
     "exception": false,
     "start_time": "2024-11-16T00:37:21.641481",
     "status": "completed"
    },
    "tags": []
   },
   "source": [
    "Data Preprocessing"
   ]
  },
  {
   "cell_type": "code",
   "execution_count": 11,
   "id": "68773060",
   "metadata": {
    "execution": {
     "iopub.execute_input": "2024-11-16T00:37:21.671457Z",
     "iopub.status.busy": "2024-11-16T00:37:21.670982Z",
     "iopub.status.idle": "2024-11-16T00:37:21.778051Z",
     "shell.execute_reply": "2024-11-16T00:37:21.777027Z"
    },
    "papermill": {
     "duration": 0.12077,
     "end_time": "2024-11-16T00:37:21.780740",
     "exception": false,
     "start_time": "2024-11-16T00:37:21.659970",
     "status": "completed"
    },
    "tags": []
   },
   "outputs": [],
   "source": [
    "df_train = df_train.apply(lambda col: col.fillna(col.mode()[0]) if col.isnull().any() else col)\n",
    "df_test = df_test.apply(lambda col: col.fillna(col.mode()[0]) if col.isnull().any() else col)"
   ]
  },
  {
   "cell_type": "code",
   "execution_count": 12,
   "id": "b62fb58e",
   "metadata": {
    "execution": {
     "iopub.execute_input": "2024-11-16T00:37:21.802322Z",
     "iopub.status.busy": "2024-11-16T00:37:21.801088Z",
     "iopub.status.idle": "2024-11-16T00:37:21.822340Z",
     "shell.execute_reply": "2024-11-16T00:37:21.821432Z"
    },
    "papermill": {
     "duration": 0.034588,
     "end_time": "2024-11-16T00:37:21.824956",
     "exception": false,
     "start_time": "2024-11-16T00:37:21.790368",
     "status": "completed"
    },
    "tags": []
   },
   "outputs": [],
   "source": [
    "df_train['experience_level'] = df_train['experience_level'].map({'EN': 0, 'MI': 1, 'SE': 2, 'EX': 3})\n",
    "df_test['experience_level'] = df_test['experience_level'].map({'EN': 0, 'MI': 1, 'SE': 2, 'EX': 3})\n",
    "\n",
    "df_train['company_size'] = df_train['company_size'].map({'S': 0, 'M': 1, 'L': 2})\n",
    "df_test['company_size'] = df_test['company_size'].map({'S': 0, 'M': 1, 'L': 2})"
   ]
  },
  {
   "cell_type": "code",
   "execution_count": 13,
   "id": "6fd536cc",
   "metadata": {
    "execution": {
     "iopub.execute_input": "2024-11-16T00:37:21.845149Z",
     "iopub.status.busy": "2024-11-16T00:37:21.844707Z",
     "iopub.status.idle": "2024-11-16T00:37:21.871533Z",
     "shell.execute_reply": "2024-11-16T00:37:21.870329Z"
    },
    "papermill": {
     "duration": 0.040056,
     "end_time": "2024-11-16T00:37:21.874214",
     "exception": false,
     "start_time": "2024-11-16T00:37:21.834158",
     "status": "completed"
    },
    "tags": []
   },
   "outputs": [],
   "source": [
    "df_train = pd.get_dummies(df_train, columns=['experience_level', 'employment_type'])\n",
    "df_test = pd.get_dummies(df_test, columns=['experience_level', 'employment_type'])"
   ]
  },
  {
   "cell_type": "code",
   "execution_count": 14,
   "id": "af1781e0",
   "metadata": {
    "execution": {
     "iopub.execute_input": "2024-11-16T00:37:21.894670Z",
     "iopub.status.busy": "2024-11-16T00:37:21.894226Z",
     "iopub.status.idle": "2024-11-16T00:37:21.971480Z",
     "shell.execute_reply": "2024-11-16T00:37:21.970111Z"
    },
    "papermill": {
     "duration": 0.090672,
     "end_time": "2024-11-16T00:37:21.974338",
     "exception": false,
     "start_time": "2024-11-16T00:37:21.883666",
     "status": "completed"
    },
    "tags": []
   },
   "outputs": [],
   "source": [
    "# List of categorical columns to apply frequency encoding\n",
    "categorical_columns = ['job_title', 'salary_currency', 'employee_residence', 'company_location']\n",
    "\n",
    "# Apply frequency encoding to each categorical column for training data\n",
    "for col in categorical_columns:\n",
    "    frequency_encoding = df_train[col].value_counts()\n",
    "    df_train[f'{col}_encoded'] = df_train[col].map(frequency_encoding)\n",
    "\n",
    "# Apply frequency encoding to each categorical column for test data\n",
    "for col in categorical_columns:\n",
    "    frequency_encoding = df_train[col].value_counts()  # Use the training data's encoding\n",
    "    df_test[f'{col}_encoded'] = df_test[col].map(frequency_encoding)\n",
    "\n",
    "# Drop original columns from both training and test data\n",
    "df_train.drop(columns=categorical_columns, inplace=True)\n",
    "df_test.drop(columns=categorical_columns, inplace=True)"
   ]
  },
  {
   "cell_type": "markdown",
   "id": "452c6902",
   "metadata": {
    "papermill": {
     "duration": 0.008974,
     "end_time": "2024-11-16T00:37:21.992704",
     "exception": false,
     "start_time": "2024-11-16T00:37:21.983730",
     "status": "completed"
    },
    "tags": []
   },
   "source": [
    "Modelling"
   ]
  },
  {
   "cell_type": "code",
   "execution_count": 15,
   "id": "27e76b67",
   "metadata": {
    "execution": {
     "iopub.execute_input": "2024-11-16T00:37:22.013583Z",
     "iopub.status.busy": "2024-11-16T00:37:22.012687Z",
     "iopub.status.idle": "2024-11-16T00:37:22.052547Z",
     "shell.execute_reply": "2024-11-16T00:37:22.051437Z"
    },
    "papermill": {
     "duration": 0.053357,
     "end_time": "2024-11-16T00:37:22.055340",
     "exception": false,
     "start_time": "2024-11-16T00:37:22.001983",
     "status": "completed"
    },
    "tags": []
   },
   "outputs": [],
   "source": [
    "# Assuming 'salary' is the target and 'id' is an identifier (not used in training)\n",
    "y_train = df_train['salary'].values\n",
    "X_train = df_train.drop(['salary', 'id'], axis=1).values\n",
    "X_test = df_test.drop(['id'], axis=1).values  # Ensure X_test is the feature set"
   ]
  },
  {
   "cell_type": "code",
   "execution_count": 16,
   "id": "2d2cd818",
   "metadata": {
    "execution": {
     "iopub.execute_input": "2024-11-16T00:37:22.075732Z",
     "iopub.status.busy": "2024-11-16T00:37:22.075273Z",
     "iopub.status.idle": "2024-11-16T00:37:22.400621Z",
     "shell.execute_reply": "2024-11-16T00:37:22.399426Z"
    },
    "papermill": {
     "duration": 0.338743,
     "end_time": "2024-11-16T00:37:22.403412",
     "exception": false,
     "start_time": "2024-11-16T00:37:22.064669",
     "status": "completed"
    },
    "tags": []
   },
   "outputs": [],
   "source": [
    "from sklearn.preprocessing import RobustScaler\n",
    "\n",
    "# Initialize the RobustScaler\n",
    "scaler = RobustScaler()\n",
    "\n",
    "# Fit the scaler on the training data and transform it\n",
    "X_train_scaled = scaler.fit_transform(X_train)\n",
    "\n",
    "# Transform the test data using the same scaler (no fitting here)\n",
    "X_test_scaled = scaler.transform(X_test)"
   ]
  },
  {
   "cell_type": "code",
   "execution_count": 17,
   "id": "2aa247e0",
   "metadata": {
    "execution": {
     "iopub.execute_input": "2024-11-16T00:37:22.423839Z",
     "iopub.status.busy": "2024-11-16T00:37:22.423359Z",
     "iopub.status.idle": "2024-11-16T00:39:37.061794Z",
     "shell.execute_reply": "2024-11-16T00:39:37.060218Z"
    },
    "papermill": {
     "duration": 134.651756,
     "end_time": "2024-11-16T00:39:37.064460",
     "exception": false,
     "start_time": "2024-11-16T00:37:22.412704",
     "status": "completed"
    },
    "scrolled": true,
    "tags": []
   },
   "outputs": [
    {
     "name": "stdout",
     "output_type": "stream",
     "text": [
      "Tuning Linear Regression...\n",
      "Best RMSE for Linear Regression: 67883.5963917806\n",
      "Tuning Random Forest...\n",
      "Best RMSE for Random Forest: 63107.424569778115\n",
      "Tuning K-Neighbors Regressor...\n",
      "Best RMSE for K-Neighbors Regressor: 65422.043850373484\n",
      "\n",
      "Best Model Selected:\n",
      "Pipeline(steps=[('regressor',\n",
      "                 RandomForestRegressor(max_depth=10, min_samples_split=5,\n",
      "                                       n_estimators=200, random_state=42))])\n",
      "Best RMSE: 63107.424569778115\n",
      "Predicted salaries for the test set:\n",
      "[128299.62147375 142316.76486493 183842.09403059 ... 200529.73268302\n",
      " 176793.79441584  49403.45401451]\n"
     ]
    }
   ],
   "source": [
    "import numpy as np\n",
    "import pandas as pd\n",
    "from sklearn.model_selection import train_test_split, GridSearchCV, cross_val_score\n",
    "from sklearn.metrics import mean_squared_error\n",
    "from sklearn.linear_model import LinearRegression\n",
    "from sklearn.ensemble import RandomForestRegressor\n",
    "from sklearn.svm import SVR\n",
    "from sklearn.neighbors import KNeighborsRegressor\n",
    "from sklearn.pipeline import Pipeline\n",
    "\n",
    "# Define the models and their hyperparameters\n",
    "models = [\n",
    "    {\n",
    "        'name': 'Linear Regression',\n",
    "        'model': Pipeline([\n",
    "            ('regressor', LinearRegression())\n",
    "        ]),\n",
    "        'params': {\n",
    "            'regressor__fit_intercept': [True, False]\n",
    "        }\n",
    "    },\n",
    "    {\n",
    "        'name': 'Random Forest',\n",
    "        'model': Pipeline([\n",
    "            ('regressor', RandomForestRegressor(random_state=42))\n",
    "        ]),\n",
    "        'params': {\n",
    "            'regressor__n_estimators': [100, 200],\n",
    "            'regressor__max_depth': [None, 10, 20],\n",
    "            'regressor__min_samples_split': [2, 5]\n",
    "        }\n",
    "    },\n",
    "    {\n",
    "        'name': 'K-Neighbors Regressor',\n",
    "        'model': Pipeline([\n",
    "            ('regressor', KNeighborsRegressor())\n",
    "        ]),\n",
    "        'params': {\n",
    "            'regressor__n_neighbors': [3, 5, 10],\n",
    "            'regressor__weights': ['uniform', 'distance']\n",
    "        }\n",
    "    }\n",
    "]\n",
    "\n",
    "# Cross-validation and hyperparameter tuning\n",
    "best_model = None\n",
    "best_score = float('inf')\n",
    "\n",
    "for model_info in models:\n",
    "    print(f\"Tuning {model_info['name']}...\")\n",
    "    grid_search = GridSearchCV(\n",
    "        model_info['model'],\n",
    "        model_info['params'],\n",
    "        scoring='neg_mean_squared_error',\n",
    "        cv=5,\n",
    "        n_jobs=-1\n",
    "    )\n",
    "    grid_search.fit(X_train, y_train)\n",
    "    \n",
    "    # Calculate the mean RMSE from cross-validation\n",
    "    mean_rmse = np.sqrt(-grid_search.best_score_)\n",
    "    print(f\"Best RMSE for {model_info['name']}: {mean_rmse}\")\n",
    "\n",
    "    if mean_rmse < best_score:\n",
    "        best_score = mean_rmse\n",
    "        best_model = grid_search.best_estimator_\n",
    "\n",
    "print(\"\\nBest Model Selected:\")\n",
    "print(best_model)\n",
    "print(f\"Best RMSE: {best_score}\")\n",
    "\n",
    "# Predict on the test set (without knowing the actual salary)\n",
    "y_pred = best_model.predict(X_test)\n",
    "\n",
    "# If you want to save or display predictions:\n",
    "print(\"Predicted salaries for the test set:\")\n",
    "print(y_pred)\n"
   ]
  },
  {
   "cell_type": "code",
   "execution_count": 18,
   "id": "3c6734ef",
   "metadata": {
    "execution": {
     "iopub.execute_input": "2024-11-16T00:39:37.085979Z",
     "iopub.status.busy": "2024-11-16T00:39:37.085499Z",
     "iopub.status.idle": "2024-11-16T00:39:37.127134Z",
     "shell.execute_reply": "2024-11-16T00:39:37.125838Z"
    },
    "papermill": {
     "duration": 0.05556,
     "end_time": "2024-11-16T00:39:37.129674",
     "exception": false,
     "start_time": "2024-11-16T00:39:37.074114",
     "status": "completed"
    },
    "tags": []
   },
   "outputs": [
    {
     "name": "stdout",
     "output_type": "stream",
     "text": [
      "Predictions have been saved to 'predictions.csv'.\n"
     ]
    }
   ],
   "source": [
    "# Create a DataFrame for predictions\n",
    "predictions_df = pd.DataFrame({\n",
    "    'id': df_test['id'],  # Assuming 'id' is present in df_test for identification\n",
    "    'salary': y_pred\n",
    "})\n",
    "\n",
    "# Save to CSV\n",
    "predictions_df.to_csv('predictions.csv', index=False)\n",
    "print(\"Predictions have been saved to 'predictions.csv'.\")"
   ]
  }
 ],
 "metadata": {
  "kaggle": {
   "accelerator": "none",
   "dataSources": [
    {
     "databundleVersionId": 10107639,
     "sourceId": 88231,
     "sourceType": "competition"
    }
   ],
   "dockerImageVersionId": 30786,
   "isGpuEnabled": false,
   "isInternetEnabled": true,
   "language": "python",
   "sourceType": "notebook"
  },
  "kernelspec": {
   "display_name": "Python 3",
   "language": "python",
   "name": "python3"
  },
  "language_info": {
   "codemirror_mode": {
    "name": "ipython",
    "version": 3
   },
   "file_extension": ".py",
   "mimetype": "text/x-python",
   "name": "python",
   "nbconvert_exporter": "python",
   "pygments_lexer": "ipython3",
   "version": "3.10.14"
  },
  "papermill": {
   "default_parameters": {},
   "duration": 145.521874,
   "end_time": "2024-11-16T00:39:39.760904",
   "environment_variables": {},
   "exception": null,
   "input_path": "__notebook__.ipynb",
   "output_path": "__notebook__.ipynb",
   "parameters": {},
   "start_time": "2024-11-16T00:37:14.239030",
   "version": "2.6.0"
  }
 },
 "nbformat": 4,
 "nbformat_minor": 5
}
